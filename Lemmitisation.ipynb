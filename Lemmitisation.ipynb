{
 "cells": [
  {
   "cell_type": "code",
   "execution_count": 1,
   "metadata": {},
   "outputs": [],
   "source": [
    "import spacy"
   ]
  },
  {
   "cell_type": "code",
   "execution_count": 2,
   "metadata": {},
   "outputs": [],
   "source": [
    "nlp = spacy.load ('en_core_web_sm')"
   ]
  },
  {
   "cell_type": "code",
   "execution_count": 5,
   "metadata": {},
   "outputs": [],
   "source": [
    "doc1 = nlp(u\"I am a runner running in a race because I love to run since i ran today.\")"
   ]
  },
  {
   "cell_type": "code",
   "execution_count": 6,
   "metadata": {},
   "outputs": [
    {
     "name": "stdout",
     "output_type": "stream",
     "text": [
      "I\tPRON\t561228191312463089\t-PRON-\n",
      "am\tVERB\t10382539506755952630\tbe\n",
      "a\tDET\t11901859001352538922\ta\n",
      "runner\tNOUN\t12640964157389618806\trunner\n",
      "running\tVERB\t12767647472892411841\trun\n",
      "in\tADP\t3002984154512732771\tin\n",
      "a\tDET\t11901859001352538922\ta\n",
      "race\tNOUN\t8048469955494714898\trace\n",
      "because\tADP\t16950148841647037698\tbecause\n",
      "I\tPRON\t561228191312463089\t-PRON-\n",
      "love\tVERB\t3702023516439754181\tlove\n",
      "to\tPART\t3791531372978436496\tto\n",
      "run\tVERB\t12767647472892411841\trun\n",
      "since\tADP\t10066841407251338481\tsince\n",
      "i\tPRON\t5097672513440128799\ti\n",
      "ran\tVERB\t12767647472892411841\trun\n",
      "today\tNOUN\t11042482332948150395\ttoday\n",
      ".\tPUNCT\t12646065887601541794\t.\n"
     ]
    }
   ],
   "source": [
    "for t in doc1:\n",
    "    print (f\"{t.text}\\t{t.pos_}\\t{t.lemma}\\t{t.lemma_}\")"
   ]
  },
  {
   "cell_type": "code",
   "execution_count": null,
   "metadata": {},
   "outputs": [],
   "source": []
  }
 ],
 "metadata": {
  "kernelspec": {
   "display_name": "Python 3",
   "language": "python",
   "name": "python3"
  },
  "language_info": {
   "codemirror_mode": {
    "name": "ipython",
    "version": 3
   },
   "file_extension": ".py",
   "mimetype": "text/x-python",
   "name": "python",
   "nbconvert_exporter": "python",
   "pygments_lexer": "ipython3",
   "version": "3.7.3"
  }
 },
 "nbformat": 4,
 "nbformat_minor": 2
}
