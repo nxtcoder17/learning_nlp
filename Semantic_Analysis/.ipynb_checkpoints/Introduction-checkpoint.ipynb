{
 "cells": [
  {
   "cell_type": "code",
   "execution_count": 1,
   "metadata": {},
   "outputs": [],
   "source": [
    "import spacy\n",
    "nlp = spacy.load ('en_core_web_lg')"
   ]
  },
  {
   "cell_type": "code",
   "execution_count": 7,
   "metadata": {},
   "outputs": [
    {
     "data": {
      "text/plain": [
       "(300,)"
      ]
     },
     "execution_count": 7,
     "metadata": {},
     "output_type": "execute_result"
    }
   ],
   "source": [
    "nlp ('lion').vector.shape"
   ]
  },
  {
   "cell_type": "markdown",
   "metadata": {},
   "source": [
    "The values for a vector of a Document (_a collection of tokens_) are essentially the **Average** of corresponding values of all of it's tokens"
   ]
  },
  {
   "cell_type": "code",
   "execution_count": 8,
   "metadata": {},
   "outputs": [
    {
     "data": {
      "text/plain": [
       "array([-1.72348157e-01,  1.13993334e-02, -5.07186651e-02,  3.04736700e-02,\n",
       "        1.02041634e-02,  1.36314198e-01, -1.43308327e-01, -1.56106679e-02,\n",
       "        8.28423277e-02,  1.67149007e+00, -3.76483351e-01,  8.27163458e-04,\n",
       "        3.39448266e-02, -1.83933794e-01, -2.17978001e-01,  2.91569922e-02,\n",
       "        7.38043338e-02,  1.03464663e+00, -6.53124973e-02, -3.02769482e-01,\n",
       "       -1.21348329e-01, -2.10911278e-02, -5.04233642e-03, -1.49620354e-01,\n",
       "        7.19222352e-02, -1.14348307e-02, -2.94718355e-01, -9.38479975e-02,\n",
       "        2.39413325e-02, -2.36319661e-01, -1.38145790e-01,  1.62768334e-01,\n",
       "        8.31211656e-02, -1.94691680e-02,  3.39896716e-02, -9.83766690e-02,\n",
       "        1.40833361e-02,  4.41392362e-02, -3.44334841e-02, -1.59693331e-01,\n",
       "        1.34939671e-01, -5.46016656e-02,  4.42504995e-02, -1.69036329e-01,\n",
       "        1.77600995e-01,  1.24370992e-01, -2.35389009e-01, -1.37921795e-02,\n",
       "        1.09435163e-01, -3.67643349e-02, -1.80684015e-01,  5.96696734e-02,\n",
       "        1.74656641e-02, -7.17661679e-02, -6.61126673e-02, -1.09719314e-01,\n",
       "        1.41698373e-02,  1.91254839e-01, -9.73803103e-02, -1.51510000e-01,\n",
       "       -2.09343191e-02,  6.82264939e-02,  1.18707992e-01,  9.74266753e-02,\n",
       "       -3.40083279e-02, -1.03336006e-01,  5.08633256e-02, -6.30299971e-02,\n",
       "        5.92953302e-02,  5.53583317e-02,  6.48783371e-02, -2.28066742e-03,\n",
       "        1.26583174e-01,  8.70158374e-02, -4.44749929e-03, -2.06522688e-01,\n",
       "       -4.71662320e-02, -8.40654969e-02, -2.45656613e-02,  9.79383755e-03,\n",
       "       -1.17304839e-01,  1.58294320e-01,  3.11616552e-03,  8.15537497e-02,\n",
       "        1.04149997e-01, -6.53666630e-02,  6.39293313e-01,  3.07845324e-01,\n",
       "        2.16024518e-01,  1.93165496e-01, -5.76967001e-03,  1.37018174e-01,\n",
       "        4.62698340e-02, -2.81591833e-01,  1.44620016e-01, -1.11784495e-01,\n",
       "       -1.18120670e-01, -4.80088331e-02, -1.66833401e-02, -1.96337163e-01,\n",
       "        1.20270170e-01,  1.80233326e-02, -1.45326167e-01, -5.51203303e-02,\n",
       "        2.73249988e-02, -5.16038358e-01,  1.91133320e-01, -1.22211665e-01,\n",
       "       -2.59749964e-03,  7.00750714e-03,  8.39066971e-03, -1.35709658e-01,\n",
       "        1.35878846e-01, -2.36315653e-01,  5.24155013e-02,  1.49114206e-01,\n",
       "        4.54239994e-02, -4.82251644e-02,  1.01726674e-01, -9.57133342e-03,\n",
       "        3.67553346e-02, -1.01855330e-01, -6.04298944e-03, -8.09980929e-02,\n",
       "       -3.36291641e-01,  1.84029162e-01,  2.47116685e-02, -1.12581670e-01,\n",
       "       -5.81233716e-03, -7.20183328e-02, -3.13029960e-02, -1.41354665e-01,\n",
       "       -1.64832518e-01,  8.83055031e-02,  9.45433304e-02, -1.53148221e-02,\n",
       "       -1.34640023e-01, -3.86001654e-02, -3.61458212e-03, -1.42154828e-01,\n",
       "       -1.88576663e+00,  3.35009955e-02,  1.57609835e-01,  4.99090068e-02,\n",
       "        1.89496160e-01, -2.12626662e-02, -2.15516668e-02,  7.24731609e-02,\n",
       "        8.66766274e-03,  9.42646787e-02, -2.91667879e-04, -1.01367168e-01,\n",
       "        1.53941169e-01, -6.66393265e-02, -2.07546353e-01,  4.31144983e-02,\n",
       "       -1.40432000e-01,  8.92028436e-02,  1.12764664e-01, -6.32440001e-02,\n",
       "        1.91204976e-02, -1.67245671e-01, -2.31281996e-01, -1.09815836e-01,\n",
       "       -5.72183318e-02, -1.72321364e-01, -8.06841627e-02, -7.53138289e-02,\n",
       "       -7.47766793e-02, -1.33558840e-01,  1.17644824e-01,  1.23049997e-01,\n",
       "       -2.42766678e-01, -1.69516161e-01, -3.07324558e-01, -1.22464828e-01,\n",
       "        2.35831156e-01, -4.39061671e-02, -6.08321689e-02, -3.16768326e-02,\n",
       "       -6.72871694e-02, -1.29388168e-01, -2.34830007e-01, -1.63076654e-01,\n",
       "        8.47813413e-02,  9.03469920e-02,  5.55500388e-03, -7.37408400e-02,\n",
       "        4.81573343e-02,  2.18493640e-02,  2.44528174e-01,  3.39303315e-02,\n",
       "        1.44109473e-01,  8.06901678e-02,  3.16652991e-02,  1.57057181e-01,\n",
       "        1.77248836e-01,  2.25648433e-02,  1.22988299e-02,  2.11349931e-02,\n",
       "       -1.01100005e-01,  2.20666658e-02, -2.37653330e-01, -6.93366677e-03,\n",
       "        2.02759996e-01,  8.33157972e-02, -1.36916712e-03, -1.18423671e-01,\n",
       "       -1.10906102e-01,  1.94599666e-03,  5.52299954e-02,  7.26608261e-02,\n",
       "       -4.57321666e-02,  2.00092331e-01,  1.18461840e-01,  1.01085491e-01,\n",
       "       -2.43595675e-01,  7.90551677e-02, -2.37403288e-02,  2.29074836e-01,\n",
       "        3.87624986e-02, -1.96351632e-02, -6.93934932e-02,  1.58265933e-01,\n",
       "       -1.71144798e-01, -1.88479498e-01,  1.12610161e-01,  1.30915985e-01,\n",
       "        2.46765018e-02,  3.28103364e-01,  2.63633323e-03, -7.40053281e-02,\n",
       "       -3.99050489e-02,  2.82426625e-02, -2.77313292e-02, -6.11263327e-02,\n",
       "       -1.27709657e-01, -2.75812354e-02,  1.51445508e-01,  1.90836310e-01,\n",
       "       -1.82828322e-01, -1.17210835e-01, -5.56183346e-02, -2.79840026e-02,\n",
       "        7.20854998e-02, -1.75568163e-01, -1.14969678e-01,  4.53806706e-02,\n",
       "       -1.92146167e-01,  9.48750004e-02,  1.45831704e-02, -6.51098266e-02,\n",
       "       -1.96280003e-01,  7.69335404e-02,  1.73190832e-01,  6.63891733e-02,\n",
       "        2.27989152e-01,  7.46954978e-02, -2.68350001e-02, -2.69631669e-02,\n",
       "        1.01348318e-01,  1.38241827e-01,  1.57494828e-01, -1.29496679e-01,\n",
       "        1.51328325e-01, -2.29259670e-01,  2.70494986e-02, -4.56630029e-02,\n",
       "       -6.39849976e-02,  1.11799993e-01, -4.48553264e-02,  2.37554148e-01,\n",
       "       -2.41809506e-02, -1.66229501e-01, -9.95300040e-02, -1.92856658e-02,\n",
       "        6.83349967e-02,  9.48563293e-02, -1.76676735e-02,  7.12607503e-02,\n",
       "        2.21339986e-01,  1.35483837e-03, -7.96278343e-02,  8.08006600e-02,\n",
       "       -6.23431690e-02, -2.69403383e-02,  4.52483296e-02,  2.10628416e-02,\n",
       "        2.38348339e-02,  2.99449917e-02, -1.95069000e-01,  1.40125483e-01,\n",
       "       -7.08448365e-02, -9.35746729e-02, -1.12756334e-01,  2.81260032e-02,\n",
       "        4.69838381e-02,  5.86768389e-02, -1.61301494e-01, -1.79183409e-02],\n",
       "      dtype=float32)"
      ]
     },
     "execution_count": 8,
     "metadata": {},
     "output_type": "execute_result"
    }
   ],
   "source": [
    "nlp ('The quick brown fox jumped.').vector"
   ]
  },
  {
   "cell_type": "code",
   "execution_count": 9,
   "metadata": {},
   "outputs": [
    {
     "data": {
      "text/plain": [
       "(300,)"
      ]
     },
     "execution_count": 9,
     "metadata": {},
     "output_type": "execute_result"
    }
   ],
   "source": [
    "nlp ('The quick brown fox jumped.').vector.shape"
   ]
  },
  {
   "cell_type": "code",
   "execution_count": 10,
   "metadata": {},
   "outputs": [],
   "source": [
    "doc = nlp (\"lion cat pet\")"
   ]
  },
  {
   "cell_type": "code",
   "execution_count": 11,
   "metadata": {},
   "outputs": [
    {
     "name": "stdout",
     "output_type": "stream",
     "text": [
      "lion AND lion : 1.0\n",
      "lion AND cat : 0.5265437960624695\n",
      "lion AND pet : 0.39923766255378723\n",
      "cat AND lion : 0.5265437960624695\n",
      "cat AND cat : 1.0\n",
      "cat AND pet : 0.7505456805229187\n",
      "pet AND lion : 0.39923766255378723\n",
      "pet AND cat : 0.7505456805229187\n",
      "pet AND pet : 1.0\n"
     ]
    }
   ],
   "source": [
    "for token1 in doc:\n",
    "    for token2 in doc:\n",
    "        print (f\"{token1.text} AND {token2.text} : {token1.similarity (token2)}\")"
   ]
  },
  {
   "cell_type": "markdown",
   "metadata": {},
   "source": [
    "We should keep in mind that **Words that have quite opposite meaning but often appear in the same context** may actually have **SIMILAR Vectors**"
   ]
  },
  {
   "cell_type": "code",
   "execution_count": 12,
   "metadata": {},
   "outputs": [],
   "source": [
    "doc = nlp (\"like love hate\")"
   ]
  },
  {
   "cell_type": "code",
   "execution_count": 13,
   "metadata": {},
   "outputs": [
    {
     "name": "stdout",
     "output_type": "stream",
     "text": [
      "like AND like : 1.0\n",
      "like AND love : 0.6579040288925171\n",
      "like AND hate : 0.6574651598930359\n",
      "love AND like : 0.6579040288925171\n",
      "love AND love : 1.0\n",
      "love AND hate : 0.6393099427223206\n",
      "hate AND like : 0.6574651598930359\n",
      "hate AND love : 0.6393099427223206\n",
      "hate AND hate : 1.0\n"
     ]
    }
   ],
   "source": [
    "for token1 in doc:\n",
    "    for token2 in doc:\n",
    "        print (f\"{token1.text} AND {token2.text} : {token1.similarity (token2)}\")"
   ]
  },
  {
   "cell_type": "code",
   "execution_count": 14,
   "metadata": {},
   "outputs": [
    {
     "name": "stdout",
     "output_type": "stream",
     "text": [
      "dog True 7.0336733 False\n",
      "cat True 6.6808186 False\n",
      "margle False 0.0 True\n"
     ]
    }
   ],
   "source": [
    "tokens = nlp (\"dog cat margle\")\n",
    "for token in tokens:\n",
    "    print (token.text, token.has_vector, token.vector_norm, token.is_oov)"
   ]
  },
  {
   "cell_type": "code",
   "execution_count": 15,
   "metadata": {},
   "outputs": [],
   "source": [
    "from scipy import spatial"
   ]
  },
  {
   "cell_type": "code",
   "execution_count": 16,
   "metadata": {},
   "outputs": [],
   "source": [
    "cosine_similarity = lambda vec1, vec2: 1 - spatial.distance.cosine (vec1, vec2)"
   ]
  },
  {
   "cell_type": "code",
   "execution_count": 17,
   "metadata": {},
   "outputs": [],
   "source": [
    "# Creating vectors for king, woman and man\n",
    "king, man, woman = [x.vector for x in nlp (\"king man woman\")]"
   ]
  },
  {
   "cell_type": "code",
   "execution_count": 19,
   "metadata": {},
   "outputs": [
    {
     "data": {
      "text/plain": [
       "(300,)"
      ]
     },
     "execution_count": 19,
     "metadata": {},
     "output_type": "execute_result"
    }
   ],
   "source": [
    "king.shape"
   ]
  },
  {
   "cell_type": "code",
   "execution_count": 20,
   "metadata": {},
   "outputs": [],
   "source": [
    "new_vector = king - man + woman"
   ]
  },
  {
   "cell_type": "markdown",
   "metadata": {},
   "source": [
    "Now, this **new_vector** should be somewhat similar to **queen** or **princess** etc."
   ]
  },
  {
   "cell_type": "code",
   "execution_count": null,
   "metadata": {},
   "outputs": [],
   "source": [
    "# Iterating in the entire corpus of word vectors to find similar word vectors\n",
    "computed_similarities = []\n",
    "for word in nlp.vocab:\n",
    "    if word.has_vector and word.is_alpha:\n",
    "        similarity = cosine_similarity (new_vector, word.vector)\n",
    "        computed_similarities.append ( (word, similarity) )"
   ]
  },
  {
   "cell_type": "code",
   "execution_count": null,
   "metadata": {},
   "outputs": [],
   "source": [
    "computed_similarities"
   ]
  },
  {
   "cell_type": "code",
   "execution_count": null,
   "metadata": {},
   "outputs": [],
   "source": []
  }
 ],
 "metadata": {
  "kernelspec": {
   "display_name": "Python 3",
   "language": "python",
   "name": "python3"
  },
  "language_info": {
   "codemirror_mode": {
    "name": "ipython",
    "version": 3
   },
   "file_extension": ".py",
   "mimetype": "text/x-python",
   "name": "python",
   "nbconvert_exporter": "python",
   "pygments_lexer": "ipython3",
   "version": "3.7.3"
  }
 },
 "nbformat": 4,
 "nbformat_minor": 2
}
